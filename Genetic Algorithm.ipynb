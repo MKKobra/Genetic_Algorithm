{
  "nbformat": 4,
  "nbformat_minor": 0,
  "metadata": {
    "colab": {
      "provenance": []
    },
    "kernelspec": {
      "name": "python3",
      "display_name": "Python 3"
    },
    "language_info": {
      "name": "python"
    }
  },
  "cells": [
    {
      "cell_type": "code",
      "source": [
        "import random\n",
        "import math"
      ],
      "metadata": {
        "id": "4V0mF7SZxErZ"
      },
      "execution_count": null,
      "outputs": []
    },
    {
      "cell_type": "code",
      "execution_count": null,
      "metadata": {
        "id": "vRNsTrc7urlA"
      },
      "outputs": [],
      "source": [
        "# chromosome generator\n",
        "def cmsm(n):\n",
        "    s = ''\n",
        "\n",
        "    for i in range(n):\n",
        "        s += str(random.randint(0,1))\n",
        "\n",
        "    while True:\n",
        "        if int(s) == 0:\n",
        "            # print(\"found a hopeless crhomosome... :'(\")\n",
        "            s = cmsm(n)\n",
        "        else:\n",
        "            break\n",
        "\n",
        "    print(s)\n",
        "    return s"
      ]
    },
    {
      "cell_type": "code",
      "source": [
        "def fitness(cmsm):\n",
        "    balance = 0\n",
        "    for i in range(n):\n",
        "        if cmsm[i] == '1':\n",
        "            balance += data[i]\n",
        "\n",
        "    return abs(balance)"
      ],
      "metadata": {
        "id": "RPq2n6_KHERs"
      },
      "execution_count": null,
      "outputs": []
    },
    {
      "cell_type": "code",
      "source": [
        "# Checking the fitness of the chromosomes\n",
        "def fitness_checker():\n",
        "    for i in range(cm_num):\n",
        "        fit = fitness(cmlist[i][1])\n",
        "        cmlist[i][0] = fit\n",
        "        if fit == 0:\n",
        "            print(cmlist[i][1])\n",
        "            return True"
      ],
      "metadata": {
        "id": "6QBCeVnWUeCt"
      },
      "execution_count": null,
      "outputs": []
    },
    {
      "cell_type": "code",
      "source": [
        "def selection(): # sorts and selects the chromosomes\n",
        "    # Sorting the chromosomes according to their fitness\n",
        "    cmlist.sort()\n",
        "    # Selection: selecting the first 3 chromosomes and replacing the last chromosome with the second one\n",
        "    # issue: cmlist[1] is pointing towards cmlist[3] (issue resolved)\n",
        "    cmlist[3][1] = ''\n",
        "    for i in cmlist[1][1]:\n",
        "        cmlist[3][1] += i"
      ],
      "metadata": {
        "id": "PckLb1EenQfh"
      },
      "execution_count": null,
      "outputs": []
    },
    {
      "cell_type": "code",
      "source": [
        "# Crossover\n",
        "def crossover():\n",
        "    for i in range(0, cm_num, 2):\n",
        "        crsovr_index = random.randint(1,n-1)\n",
        "\n",
        "        str_1 = cmlist[i][1]\n",
        "        str_2 = cmlist[i+1][1]\n",
        "\n",
        "        temp = str_1[0: crsovr_index]\n",
        "        str_1 = str_2[0: crsovr_index] + str_1[crsovr_index:]\n",
        "        str_2 = temp + str_2[crsovr_index:]\n",
        "\n",
        "        cmlist[i][1] = str_1\n",
        "        cmlist[i+1][1] = str_2"
      ],
      "metadata": {
        "id": "z4pFe2Y2pT2W"
      },
      "execution_count": null,
      "outputs": []
    },
    {
      "cell_type": "code",
      "source": [
        "# Mutation\n",
        "def mutation():\n",
        "    for i in range(cm_num):\n",
        "        chrm = cmlist[i][1]\n",
        "        mut_index = random.randint(0, n-1)\n",
        "\n",
        "        before = chrm[:mut_index]\n",
        "        after = chrm[mut_index + 1:]\n",
        "        # print('mut_index:', mut_index)\n",
        "        # print('before and after:', before, after)\n",
        "\n",
        "        if chrm[mut_index] == '0':\n",
        "            chrm = before + '1' + after\n",
        "        else:\n",
        "            if mut_index == 0:\n",
        "                if(int(after)==0):\n",
        "                    pass\n",
        "                else:\n",
        "                    chrm = '0' + after\n",
        "            elif mut_index == n-1:\n",
        "                if(int(before)==0):\n",
        "                    pass\n",
        "                else:\n",
        "                    chrm = before + '0'\n",
        "            elif (int(before)==0 and int(after)==0):\n",
        "                pass\n",
        "            else:\n",
        "                chrm = before + '0' + after\n",
        "\n",
        "        cmlist[i][1] = chrm"
      ],
      "metadata": {
        "id": "wCZMMLe6qFWt"
      },
      "execution_count": null,
      "outputs": []
    },
    {
      "cell_type": "markdown",
      "source": [
        "Sample Input 1 <br>\n",
        "7 <br>\n",
        "l 120 <br>\n",
        "l 289 <br>\n",
        "d 475 <br>\n",
        "l 195 <br>\n",
        "d 6482 <br>\n",
        "l 160 <br>\n",
        "d 935 <br>\n",
        "Sample Output 1 <br>\n",
        "1011010 <br>"
      ],
      "metadata": {
        "id": "GRwZVQ3oHMBJ"
      }
    },
    {
      "cell_type": "code",
      "source": [
        "# Input block\n",
        "data = []\n",
        "\n",
        "f = open('/content/input2.txt')\n",
        "n = int(f.readline()) # n is the number of inputs, also the length of the chromosomes\n",
        "for i in range(n):\n",
        "    dt = f.readline().split()\n",
        "    if dt[0] == 'l':\n",
        "        data.append(-int(dt[1]))\n",
        "    else:\n",
        "        data.append(int(dt[1]))\n"
      ],
      "metadata": {
        "id": "8qhYa0QAKdXO"
      },
      "execution_count": null,
      "outputs": []
    },
    {
      "cell_type": "code",
      "source": [
        "# Creating a list of lists of generated chromosomes\n",
        "cmlist = []\n",
        "cm_num = 4 # number of chromosomes = 4\n",
        "for i in range(cm_num):\n",
        "    cmlist.append([math.inf, cmsm(n)]) # first index of the inner list represents the fitness value of the chromosome.\n",
        "                                       # Initially all fitness values set to inf to indicate an undefined/unknown fitness value"
      ],
      "metadata": {
        "id": "dz7XUf3FxZWI",
        "colab": {
          "base_uri": "https://localhost:8080/"
        },
        "outputId": "fabaf445-d73d-41ca-bed2-4a1b2c7155e3"
      },
      "execution_count": null,
      "outputs": [
        {
          "output_type": "stream",
          "name": "stdout",
          "text": [
            "1001010\n",
            "0011010\n",
            "0110010\n",
            "1000100\n"
          ]
        }
      ]
    },
    {
      "cell_type": "code",
      "source": [
        "print(data)\n",
        "print(cmlist)"
      ],
      "metadata": {
        "colab": {
          "base_uri": "https://localhost:8080/"
        },
        "id": "OzX3nwWWtZ8q",
        "outputId": "f184ea68-1c7c-494c-d549-588b1c847b01"
      },
      "execution_count": null,
      "outputs": [
        {
          "output_type": "stream",
          "name": "stdout",
          "text": [
            "[-120, -289, 475, -195, 6482, -160, 935]\n",
            "[[inf, '1001010'], [inf, '0011010'], [inf, '0110010'], [inf, '1000100']]\n"
          ]
        }
      ]
    },
    {
      "cell_type": "code",
      "source": [
        "# Genetic algorithm\n",
        "found = False\n",
        "for i in range(1000):\n",
        "    found = fitness_checker()\n",
        "    if(found):\n",
        "        break\n",
        "    selection()\n",
        "    crossover()\n",
        "    mutation()\n",
        "    # print(i)\n",
        "    # print(cmlist)\n",
        "if not found:\n",
        "    print(-1)"
      ],
      "metadata": {
        "colab": {
          "base_uri": "https://localhost:8080/"
        },
        "id": "0-KObg0pS2EA",
        "outputId": "12930346-089a-4710-e341-a8f54870c884"
      },
      "execution_count": null,
      "outputs": [
        {
          "output_type": "stream",
          "name": "stdout",
          "text": [
            "1011010\n"
          ]
        }
      ]
    }
  ]
}